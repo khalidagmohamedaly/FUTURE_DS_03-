# Notebook Jupyter - College Event Feedback Analysis avec NLP
# Future Interns - Task 3
# Copiez ce code dans Google Colab ou Jupyter Notebook

# ============================================================
# CELL 1 : INSTALLATION DES BIBLIOTHÈQUES (Google Colab)
# ============================================================

# Décommenter si vous utilisez Google Colab
# !pip install textblob vaderSentiment wordcloud
# !python -m textblob.download_corpora

print("📦 Installation des bibliothèques...")

# ============================================================
# CELL 2 : IMPORTS
# ============================================================

import pandas as pd
import numpy as np
import matplotlib.pyplot as plt
import seaborn as sns
from datetime import datetime
import warnings
warnings.filterwarnings('ignore')

# NLP Libraries
from textblob import TextBlob
from vaderSentiment.vaderSentiment import SentimentIntensityAnalyzer
from wordcloud import WordCloud
from collections import Counter
import re

# Configuration
plt.style.use('seaborn-v0_8-whitegrid')
sns.set_palette("husl")
pd.set_option('display.max_columns', None)

print("📝 College Event Feedback Analysis")
print("="*70)
print(f"📅 Date d'analyse : {datetime.now().strftime('%Y-%m-%d %H:%M:%S')}")
print("✅ Bibliothèques importées avec succès!")

# ============================================================
# CELL 3 : CHARGEMENT DES DONNÉES
# ============================================================

# Si Google Colab, utiliser ceci pour uploader le fichier:
# from google.colab import files
# uploaded = files.upload()

# Charger les données
df = pd.read_csv('../data/event_feedback.csv')

# Convertir Timestamp
df['Timestamp'] = pd.to_datetime(df['Timestamp'])

print(f"\n✅ Données chargées : {df.shape[0]} réponses, {df.shape[1]} colonnes")
print("\n📋 Aperçu des données:")
df.head(10)

# ============================================================
# CELL 4 : EXPLORATION DES DONNÉES
# ============================================================

print("\n📊 INFORMATIONS GÉNÉRALES")
print("="*70)
df.info()

print("\n📈 STATISTIQUES DES NOTES")
print("="*70)
rating_cols = ['Overall Rating', 'Venue Rating', 'Organization Rating', 
               'Content Rating', 'Speaker Rating']
df[rating_cols].describe()

# ============================================================
# CELL 5 : KPIs PRINCIPAUX
# ============================================================

print("\n💎 KEY PERFORMANCE INDICATORS")
print("="*70)

total_responses = len(df)
avg_overall = df['Overall Rating'].mean()
avg_venue = df['Venue Rating'].mean()
avg_org = df['Organization Rating'].mean()
avg_content = df['Content Rating'].mean()
avg_speaker = df['Speaker Rating'].mean()

recommend_count = (df['Would Recommend'] == 'Oui').sum()
recommend_rate = (recommend_count / total_responses) * 100

print(f"\n📊 MÉTRIQUES GÉNÉRALES:")
print(f"  Nombre total de réponses: {total_responses}")
print(f"  Période: {df['Timestamp'].min().date()} à {df['Timestamp'].max().date()}")
print(f"  Taux de recommandation: {recommend_rate:.1f}%")

print(f"\n⭐ NOTES MOYENNES:")
print(f"  Note Globale: {avg_overall:.2f}/5.0")
print(f"  Lieu: {avg_venue:.2f}/5.0")
print(f"  Organisation: {avg_org:.2f}/5.0")
print(f"  Contenu: {avg_content:.2f}/5.0")
print(f"  Intervenant: {avg_speaker:.2f}/5.0")

# Visualisation des KPIs
fig, axes = plt.subplots(2, 2, figsize=(16, 10))

# KPI 1: Distribution de la note globale
axes[0, 0].hist(df['Overall Rating'], bins=5, color='skyblue', edgecolor='black')
axes[0, 0].axvline(avg_overall, color='red', linestyle='--', linewidth=2, 
                   label=f'Moyenne: {avg_overall:.2f}')
axes[0, 0].set_title('Distribution de la Note Globale', fontsize=14, fontweight='bold')
axes[0, 0].set_xlabel('Note')
axes[0, 0].set_ylabel('Nombre de réponses')
axes[0, 0].legend()

# KPI 2: Comparaison des notes moyennes
categories = ['Global', 'Lieu', 'Org.', 'Contenu', 'Speaker']
averages = [avg_overall, avg_venue, avg_org, avg_content, avg_speaker]
axes[0, 1].bar(categories, averages, color=['#ff6b6b', '#51cf66', '#fab005', '#4c6ef5', '#845ef7'])
axes[0, 1].set_title('Notes Moyennes par Catégorie', fontsize=14, fontweight='bold')
axes[0, 1].set_ylabel('Note Moyenne')
axes[0, 1].set_ylim([0, 5])
for i, v in enumerate(averages):
    axes[0, 1].text(i, v + 0.1, f'{v:.2f}', ha='center', fontweight='bold')

# KPI 3: Taux de recommandation
labels = ['Oui', 'Non']
sizes = [recommend_count, total_responses - recommend_count]
colors = ['#51cf66', '#ff6b6b']
axes[1, 0].pie(sizes, labels=labels, autopct='%1.1f%%', colors=colors, startangle=90)
axes[1, 0].set_
